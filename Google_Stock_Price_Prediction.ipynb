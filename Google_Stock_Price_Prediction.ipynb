{
  "nbformat": 4,
  "nbformat_minor": 0,
  "metadata": {
    "colab": {
      "name": "Google Stock Price Prediction.ipynb",
      "provenance": []
    },
    "kernelspec": {
      "name": "python3",
      "display_name": "Python 3"
    },
    "language_info": {
      "name": "python"
    }
  },
  "cells": [
    {
      "cell_type": "code",
      "execution_count": 1,
      "metadata": {
        "id": "M__cxg4my1Jp"
      },
      "outputs": [],
      "source": [
        "import pandas as pd\n",
        "import numpy as np\n",
        "import seaborn as sns\n",
        "import tensorflow as tf\n",
        "import matplotlib.pyplot as plt\n"
      ]
    },
    {
      "cell_type": "code",
      "source": [
        "data=pd.read_csv('/content/drive/MyDrive/1613615-Stock_Price_data_set.csv')\n",
        "data.head()"
      ],
      "metadata": {
        "colab": {
          "base_uri": "https://localhost:8080/",
          "height": 206
        },
        "id": "8pZIbArFzG78",
        "outputId": "654794ec-34fc-498c-b3de-09e003bc5640"
      },
      "execution_count": 2,
      "outputs": [
        {
          "output_type": "execute_result",
          "data": {
            "text/plain": [
              "         Date        Open        High         Low       Close   Adj Close  \\\n",
              "0  2018-02-05  262.000000  267.899994  250.029999  254.259995  254.259995   \n",
              "1  2018-02-06  247.699997  266.700012  245.000000  265.720001  265.720001   \n",
              "2  2018-02-07  266.579987  272.450012  264.329987  264.559998  264.559998   \n",
              "3  2018-02-08  267.079987  267.619995  250.000000  250.100006  250.100006   \n",
              "4  2018-02-09  253.850006  255.800003  236.110001  249.470001  249.470001   \n",
              "\n",
              "     Volume  \n",
              "0  11896100  \n",
              "1  12595800  \n",
              "2   8981500  \n",
              "3   9306700  \n",
              "4  16906900  "
            ],
            "text/html": [
              "\n",
              "  <div id=\"df-58a502ef-521c-465c-8568-d319b78a3ee4\">\n",
              "    <div class=\"colab-df-container\">\n",
              "      <div>\n",
              "<style scoped>\n",
              "    .dataframe tbody tr th:only-of-type {\n",
              "        vertical-align: middle;\n",
              "    }\n",
              "\n",
              "    .dataframe tbody tr th {\n",
              "        vertical-align: top;\n",
              "    }\n",
              "\n",
              "    .dataframe thead th {\n",
              "        text-align: right;\n",
              "    }\n",
              "</style>\n",
              "<table border=\"1\" class=\"dataframe\">\n",
              "  <thead>\n",
              "    <tr style=\"text-align: right;\">\n",
              "      <th></th>\n",
              "      <th>Date</th>\n",
              "      <th>Open</th>\n",
              "      <th>High</th>\n",
              "      <th>Low</th>\n",
              "      <th>Close</th>\n",
              "      <th>Adj Close</th>\n",
              "      <th>Volume</th>\n",
              "    </tr>\n",
              "  </thead>\n",
              "  <tbody>\n",
              "    <tr>\n",
              "      <th>0</th>\n",
              "      <td>2018-02-05</td>\n",
              "      <td>262.000000</td>\n",
              "      <td>267.899994</td>\n",
              "      <td>250.029999</td>\n",
              "      <td>254.259995</td>\n",
              "      <td>254.259995</td>\n",
              "      <td>11896100</td>\n",
              "    </tr>\n",
              "    <tr>\n",
              "      <th>1</th>\n",
              "      <td>2018-02-06</td>\n",
              "      <td>247.699997</td>\n",
              "      <td>266.700012</td>\n",
              "      <td>245.000000</td>\n",
              "      <td>265.720001</td>\n",
              "      <td>265.720001</td>\n",
              "      <td>12595800</td>\n",
              "    </tr>\n",
              "    <tr>\n",
              "      <th>2</th>\n",
              "      <td>2018-02-07</td>\n",
              "      <td>266.579987</td>\n",
              "      <td>272.450012</td>\n",
              "      <td>264.329987</td>\n",
              "      <td>264.559998</td>\n",
              "      <td>264.559998</td>\n",
              "      <td>8981500</td>\n",
              "    </tr>\n",
              "    <tr>\n",
              "      <th>3</th>\n",
              "      <td>2018-02-08</td>\n",
              "      <td>267.079987</td>\n",
              "      <td>267.619995</td>\n",
              "      <td>250.000000</td>\n",
              "      <td>250.100006</td>\n",
              "      <td>250.100006</td>\n",
              "      <td>9306700</td>\n",
              "    </tr>\n",
              "    <tr>\n",
              "      <th>4</th>\n",
              "      <td>2018-02-09</td>\n",
              "      <td>253.850006</td>\n",
              "      <td>255.800003</td>\n",
              "      <td>236.110001</td>\n",
              "      <td>249.470001</td>\n",
              "      <td>249.470001</td>\n",
              "      <td>16906900</td>\n",
              "    </tr>\n",
              "  </tbody>\n",
              "</table>\n",
              "</div>\n",
              "      <button class=\"colab-df-convert\" onclick=\"convertToInteractive('df-58a502ef-521c-465c-8568-d319b78a3ee4')\"\n",
              "              title=\"Convert this dataframe to an interactive table.\"\n",
              "              style=\"display:none;\">\n",
              "        \n",
              "  <svg xmlns=\"http://www.w3.org/2000/svg\" height=\"24px\"viewBox=\"0 0 24 24\"\n",
              "       width=\"24px\">\n",
              "    <path d=\"M0 0h24v24H0V0z\" fill=\"none\"/>\n",
              "    <path d=\"M18.56 5.44l.94 2.06.94-2.06 2.06-.94-2.06-.94-.94-2.06-.94 2.06-2.06.94zm-11 1L8.5 8.5l.94-2.06 2.06-.94-2.06-.94L8.5 2.5l-.94 2.06-2.06.94zm10 10l.94 2.06.94-2.06 2.06-.94-2.06-.94-.94-2.06-.94 2.06-2.06.94z\"/><path d=\"M17.41 7.96l-1.37-1.37c-.4-.4-.92-.59-1.43-.59-.52 0-1.04.2-1.43.59L10.3 9.45l-7.72 7.72c-.78.78-.78 2.05 0 2.83L4 21.41c.39.39.9.59 1.41.59.51 0 1.02-.2 1.41-.59l7.78-7.78 2.81-2.81c.8-.78.8-2.07 0-2.86zM5.41 20L4 18.59l7.72-7.72 1.47 1.35L5.41 20z\"/>\n",
              "  </svg>\n",
              "      </button>\n",
              "      \n",
              "  <style>\n",
              "    .colab-df-container {\n",
              "      display:flex;\n",
              "      flex-wrap:wrap;\n",
              "      gap: 12px;\n",
              "    }\n",
              "\n",
              "    .colab-df-convert {\n",
              "      background-color: #E8F0FE;\n",
              "      border: none;\n",
              "      border-radius: 50%;\n",
              "      cursor: pointer;\n",
              "      display: none;\n",
              "      fill: #1967D2;\n",
              "      height: 32px;\n",
              "      padding: 0 0 0 0;\n",
              "      width: 32px;\n",
              "    }\n",
              "\n",
              "    .colab-df-convert:hover {\n",
              "      background-color: #E2EBFA;\n",
              "      box-shadow: 0px 1px 2px rgba(60, 64, 67, 0.3), 0px 1px 3px 1px rgba(60, 64, 67, 0.15);\n",
              "      fill: #174EA6;\n",
              "    }\n",
              "\n",
              "    [theme=dark] .colab-df-convert {\n",
              "      background-color: #3B4455;\n",
              "      fill: #D2E3FC;\n",
              "    }\n",
              "\n",
              "    [theme=dark] .colab-df-convert:hover {\n",
              "      background-color: #434B5C;\n",
              "      box-shadow: 0px 1px 3px 1px rgba(0, 0, 0, 0.15);\n",
              "      filter: drop-shadow(0px 1px 2px rgba(0, 0, 0, 0.3));\n",
              "      fill: #FFFFFF;\n",
              "    }\n",
              "  </style>\n",
              "\n",
              "      <script>\n",
              "        const buttonEl =\n",
              "          document.querySelector('#df-58a502ef-521c-465c-8568-d319b78a3ee4 button.colab-df-convert');\n",
              "        buttonEl.style.display =\n",
              "          google.colab.kernel.accessAllowed ? 'block' : 'none';\n",
              "\n",
              "        async function convertToInteractive(key) {\n",
              "          const element = document.querySelector('#df-58a502ef-521c-465c-8568-d319b78a3ee4');\n",
              "          const dataTable =\n",
              "            await google.colab.kernel.invokeFunction('convertToInteractive',\n",
              "                                                     [key], {});\n",
              "          if (!dataTable) return;\n",
              "\n",
              "          const docLinkHtml = 'Like what you see? Visit the ' +\n",
              "            '<a target=\"_blank\" href=https://colab.research.google.com/notebooks/data_table.ipynb>data table notebook</a>'\n",
              "            + ' to learn more about interactive tables.';\n",
              "          element.innerHTML = '';\n",
              "          dataTable['output_type'] = 'display_data';\n",
              "          await google.colab.output.renderOutput(dataTable, element);\n",
              "          const docLink = document.createElement('div');\n",
              "          docLink.innerHTML = docLinkHtml;\n",
              "          element.appendChild(docLink);\n",
              "        }\n",
              "      </script>\n",
              "    </div>\n",
              "  </div>\n",
              "  "
            ]
          },
          "metadata": {},
          "execution_count": 2
        }
      ]
    },
    {
      "cell_type": "code",
      "source": [
        "data.info()"
      ],
      "metadata": {
        "colab": {
          "base_uri": "https://localhost:8080/"
        },
        "id": "nav5yAAxzQka",
        "outputId": "6a7d2e90-6edb-4a72-c3f8-237a7aed0999"
      },
      "execution_count": 3,
      "outputs": [
        {
          "output_type": "stream",
          "name": "stdout",
          "text": [
            "<class 'pandas.core.frame.DataFrame'>\n",
            "RangeIndex: 1009 entries, 0 to 1008\n",
            "Data columns (total 7 columns):\n",
            " #   Column     Non-Null Count  Dtype  \n",
            "---  ------     --------------  -----  \n",
            " 0   Date       1009 non-null   object \n",
            " 1   Open       1009 non-null   float64\n",
            " 2   High       1009 non-null   float64\n",
            " 3   Low        1009 non-null   float64\n",
            " 4   Close      1009 non-null   float64\n",
            " 5   Adj Close  1009 non-null   float64\n",
            " 6   Volume     1009 non-null   int64  \n",
            "dtypes: float64(5), int64(1), object(1)\n",
            "memory usage: 55.3+ KB\n"
          ]
        }
      ]
    },
    {
      "cell_type": "code",
      "source": [
        "training_set=data.iloc[:,1:2].values\n",
        "training_set"
      ],
      "metadata": {
        "colab": {
          "base_uri": "https://localhost:8080/"
        },
        "id": "zGVdfvJxzU0V",
        "outputId": "3535e02e-61ba-4e53-820f-a0aa042007d9"
      },
      "execution_count": 4,
      "outputs": [
        {
          "output_type": "execute_result",
          "data": {
            "text/plain": [
              "array([[262.      ],\n",
              "       [247.699997],\n",
              "       [266.579987],\n",
              "       ...,\n",
              "       [448.25    ],\n",
              "       [421.440002],\n",
              "       [407.309998]])"
            ]
          },
          "metadata": {},
          "execution_count": 4
        }
      ]
    },
    {
      "cell_type": "code",
      "source": [
        "from sklearn.preprocessing import MinMaxScaler"
      ],
      "metadata": {
        "id": "oHa205RLziYw"
      },
      "execution_count": 5,
      "outputs": []
    },
    {
      "cell_type": "code",
      "source": [
        "sc=MinMaxScaler(feature_range=(0,1))\n",
        "training_set_scaled=sc.fit_transform(training_set)"
      ],
      "metadata": {
        "id": "AqU_1VrKzvWu"
      },
      "execution_count": 6,
      "outputs": []
    },
    {
      "cell_type": "code",
      "source": [
        "training_set_scaled"
      ],
      "metadata": {
        "colab": {
          "base_uri": "https://localhost:8080/"
        },
        "id": "0oEPcZxz0AF1",
        "outputId": "cb1e8483-dc66-4d5c-b766-7e088d0b71b3"
      },
      "execution_count": 7,
      "outputs": [
        {
          "output_type": "execute_result",
          "data": {
            "text/plain": [
              "array([[0.06125254],\n",
              "       [0.03005911],\n",
              "       [0.07124314],\n",
              "       ...,\n",
              "       [0.46753051],\n",
              "       [0.4090483 ],\n",
              "       [0.3782257 ]])"
            ]
          },
          "metadata": {},
          "execution_count": 7
        }
      ]
    },
    {
      "cell_type": "markdown",
      "source": [
        "Creating a data structure with 60 time stamp and 1 output "
      ],
      "metadata": {
        "id": "jG43fkqE0NKZ"
      }
    },
    {
      "cell_type": "code",
      "source": [
        "X_train=[]\n",
        "Y_train=[]\n",
        "for i in range(60,1009):\n",
        "   # X_train will contain the 60 values from rows 0 to 60 columns\n",
        "  X_train.append(training_set_scaled[i-60:i,0])\n",
        "  Y_train.append(training_set_scaled[i, 0])\n",
        "# Converting list to ndarray\n",
        "X_train,Y_train = np.array(X_train),np.array(Y_train)"
      ],
      "metadata": {
        "id": "aisSHnGM0eE2"
      },
      "execution_count": 8,
      "outputs": []
    },
    {
      "cell_type": "code",
      "source": [
        "X_train[0][0]"
      ],
      "metadata": {
        "colab": {
          "base_uri": "https://localhost:8080/"
        },
        "id": "H02pJOE51jia",
        "outputId": "8ff9ea57-6edb-47a9-92f3-8ae9665b5829"
      },
      "execution_count": 9,
      "outputs": [
        {
          "output_type": "execute_result",
          "data": {
            "text/plain": [
              "0.06125254313102535"
            ]
          },
          "metadata": {},
          "execution_count": 9
        }
      ]
    },
    {
      "cell_type": "code",
      "source": [
        "X_train.shape "
      ],
      "metadata": {
        "colab": {
          "base_uri": "https://localhost:8080/"
        },
        "id": "UqoVIcIl1m7p",
        "outputId": "b664762b-6cc1-4b40-d243-0a89cbf4ee49"
      },
      "execution_count": 10,
      "outputs": [
        {
          "output_type": "execute_result",
          "data": {
            "text/plain": [
              "(949, 60)"
            ]
          },
          "metadata": {},
          "execution_count": 10
        }
      ]
    },
    {
      "cell_type": "code",
      "source": [
        "type(X_train)"
      ],
      "metadata": {
        "colab": {
          "base_uri": "https://localhost:8080/"
        },
        "id": "JmsVVsaZ1qAu",
        "outputId": "59c20dd2-8e59-4f7a-8c0a-ca6cba124780"
      },
      "execution_count": 11,
      "outputs": [
        {
          "output_type": "execute_result",
          "data": {
            "text/plain": [
              "numpy.ndarray"
            ]
          },
          "metadata": {},
          "execution_count": 11
        }
      ]
    },
    {
      "cell_type": "markdown",
      "source": [
        "**Reshaping**"
      ],
      "metadata": {
        "id": "BvicQnNF1z6l"
      }
    },
    {
      "cell_type": "code",
      "source": [
        "X_train = np.reshape(X_train, (X_train.shape[0], X_train.shape[1], 1))"
      ],
      "metadata": {
        "id": "kogZ02-K1xYw"
      },
      "execution_count": 12,
      "outputs": []
    },
    {
      "cell_type": "code",
      "source": [
        "from keras.models import Sequential\n",
        "from keras.layers import Dense\n",
        "from keras.layers import LSTM\n",
        "from keras.layers import Dropout"
      ],
      "metadata": {
        "id": "1LO6CkEx177d"
      },
      "execution_count": 13,
      "outputs": []
    },
    {
      "cell_type": "code",
      "source": [
        "regressorr = Sequential()"
      ],
      "metadata": {
        "id": "N0HHucy01_im"
      },
      "execution_count": 14,
      "outputs": []
    },
    {
      "cell_type": "markdown",
      "source": [
        "Adding the first LSTM Layer and some Dropout regularisation"
      ],
      "metadata": {
        "id": "zMpYY4t62EIW"
      }
    },
    {
      "cell_type": "code",
      "source": [
        "# Units represent the dimensionality of the outer space\n",
        "regressorr.add(LSTM(units = 50, return_sequences=True, input_shape = (X_train.shape[1],1)))\n",
        "# We are using the dropout layer to over come the over fitting problem\n",
        "regressorr.add(Dropout(0.2))"
      ],
      "metadata": {
        "id": "7lvHl9PB2DCK"
      },
      "execution_count": 15,
      "outputs": []
    },
    {
      "cell_type": "markdown",
      "source": [
        "Adding a second LSTM Layer and some dropout regularisation"
      ],
      "metadata": {
        "id": "9iKlpVxF2W33"
      }
    },
    {
      "cell_type": "code",
      "source": [
        "regressorr.add(LSTM(units = 50, return_sequences=True))\n",
        "# Dropout specify the % of layers to drop\n",
        "regressorr.add(Dropout(0.2))"
      ],
      "metadata": {
        "id": "ME9c9MY82Qyw"
      },
      "execution_count": 16,
      "outputs": []
    },
    {
      "cell_type": "markdown",
      "source": [
        "**Adding a third LSTM Layer and some dropout regularisation**"
      ],
      "metadata": {
        "id": "c9V6LHoL2ecA"
      }
    },
    {
      "cell_type": "code",
      "source": [
        "regressorr.add(LSTM(units = 50, return_sequences=True))\n",
        "regressorr.add(Dropout(0.2))"
      ],
      "metadata": {
        "id": "Rg-zcWRq2cw9"
      },
      "execution_count": 17,
      "outputs": []
    },
    {
      "cell_type": "markdown",
      "source": [
        "**Adding a fourth LSTM Layer and some dropout regularisation**"
      ],
      "metadata": {
        "id": "MaTjREhh2uJ-"
      }
    },
    {
      "cell_type": "code",
      "source": [
        "regressorr.add(LSTM(units = 50))\n",
        "regressorr.add(Dropout(0.2))"
      ],
      "metadata": {
        "id": "TY0V6JtN2sRo"
      },
      "execution_count": 18,
      "outputs": []
    },
    {
      "cell_type": "code",
      "source": [
        "regressorr.add(Dense(units = 1))"
      ],
      "metadata": {
        "id": "kGNWQ8hg22Pj"
      },
      "execution_count": 19,
      "outputs": []
    },
    {
      "cell_type": "code",
      "source": [
        "regressorr.compile(optimizer='adam', loss = 'mean_squared_error')"
      ],
      "metadata": {
        "id": "eYtsf1fC25t0"
      },
      "execution_count": 20,
      "outputs": []
    },
    {
      "cell_type": "code",
      "source": [
        "regressorr.fit(X_train, Y_train, epochs = 100, batch_size=32)"
      ],
      "metadata": {
        "colab": {
          "base_uri": "https://localhost:8080/"
        },
        "id": "p19DAWyu2_vq",
        "outputId": "f358b3e8-318d-4e87-e679-f8d59576e906"
      },
      "execution_count": 21,
      "outputs": [
        {
          "output_type": "stream",
          "name": "stdout",
          "text": [
            "Epoch 1/100\n",
            "30/30 [==============================] - 12s 139ms/step - loss: 0.0318\n",
            "Epoch 2/100\n",
            "30/30 [==============================] - 4s 140ms/step - loss: 0.0095\n",
            "Epoch 3/100\n",
            "30/30 [==============================] - 4s 137ms/step - loss: 0.0098\n",
            "Epoch 4/100\n",
            "30/30 [==============================] - 4s 136ms/step - loss: 0.0075\n",
            "Epoch 5/100\n",
            "30/30 [==============================] - 4s 138ms/step - loss: 0.0073\n",
            "Epoch 6/100\n",
            "30/30 [==============================] - 4s 136ms/step - loss: 0.0067\n",
            "Epoch 7/100\n",
            "30/30 [==============================] - 4s 138ms/step - loss: 0.0062\n",
            "Epoch 8/100\n",
            "30/30 [==============================] - 4s 135ms/step - loss: 0.0060\n",
            "Epoch 9/100\n",
            "30/30 [==============================] - 4s 135ms/step - loss: 0.0061\n",
            "Epoch 10/100\n",
            "30/30 [==============================] - 4s 137ms/step - loss: 0.0064\n",
            "Epoch 11/100\n",
            "30/30 [==============================] - 4s 136ms/step - loss: 0.0056\n",
            "Epoch 12/100\n",
            "30/30 [==============================] - 4s 136ms/step - loss: 0.0053\n",
            "Epoch 13/100\n",
            "30/30 [==============================] - 4s 137ms/step - loss: 0.0050\n",
            "Epoch 14/100\n",
            "30/30 [==============================] - 4s 136ms/step - loss: 0.0049\n",
            "Epoch 15/100\n",
            "30/30 [==============================] - 4s 138ms/step - loss: 0.0052\n",
            "Epoch 16/100\n",
            "30/30 [==============================] - 4s 135ms/step - loss: 0.0051\n",
            "Epoch 17/100\n",
            "30/30 [==============================] - 4s 135ms/step - loss: 0.0051\n",
            "Epoch 18/100\n",
            "30/30 [==============================] - 4s 134ms/step - loss: 0.0049\n",
            "Epoch 19/100\n",
            "30/30 [==============================] - 4s 135ms/step - loss: 0.0048\n",
            "Epoch 20/100\n",
            "30/30 [==============================] - 4s 139ms/step - loss: 0.0041\n",
            "Epoch 21/100\n",
            "30/30 [==============================] - 4s 136ms/step - loss: 0.0045\n",
            "Epoch 22/100\n",
            "30/30 [==============================] - 4s 138ms/step - loss: 0.0042\n",
            "Epoch 23/100\n",
            "30/30 [==============================] - 4s 135ms/step - loss: 0.0055\n",
            "Epoch 24/100\n",
            "30/30 [==============================] - 4s 137ms/step - loss: 0.0043\n",
            "Epoch 25/100\n",
            "30/30 [==============================] - 4s 143ms/step - loss: 0.0043\n",
            "Epoch 26/100\n",
            "30/30 [==============================] - 4s 134ms/step - loss: 0.0039\n",
            "Epoch 27/100\n",
            "30/30 [==============================] - 4s 140ms/step - loss: 0.0043\n",
            "Epoch 28/100\n",
            "30/30 [==============================] - 4s 137ms/step - loss: 0.0040\n",
            "Epoch 29/100\n",
            "30/30 [==============================] - 4s 137ms/step - loss: 0.0044\n",
            "Epoch 30/100\n",
            "30/30 [==============================] - 4s 140ms/step - loss: 0.0041\n",
            "Epoch 31/100\n",
            "30/30 [==============================] - 4s 130ms/step - loss: 0.0037\n",
            "Epoch 32/100\n",
            "30/30 [==============================] - 4s 138ms/step - loss: 0.0038\n",
            "Epoch 33/100\n",
            "30/30 [==============================] - 4s 137ms/step - loss: 0.0041\n",
            "Epoch 34/100\n",
            "30/30 [==============================] - 4s 134ms/step - loss: 0.0037\n",
            "Epoch 35/100\n",
            "30/30 [==============================] - 4s 140ms/step - loss: 0.0035\n",
            "Epoch 36/100\n",
            "30/30 [==============================] - 4s 140ms/step - loss: 0.0033\n",
            "Epoch 37/100\n",
            "30/30 [==============================] - 4s 143ms/step - loss: 0.0035\n",
            "Epoch 38/100\n",
            "30/30 [==============================] - 4s 139ms/step - loss: 0.0032\n",
            "Epoch 39/100\n",
            "30/30 [==============================] - 4s 135ms/step - loss: 0.0034\n",
            "Epoch 40/100\n",
            "30/30 [==============================] - 4s 141ms/step - loss: 0.0035\n",
            "Epoch 41/100\n",
            "30/30 [==============================] - 5s 150ms/step - loss: 0.0033\n",
            "Epoch 42/100\n",
            "30/30 [==============================] - 5s 177ms/step - loss: 0.0033\n",
            "Epoch 43/100\n",
            "30/30 [==============================] - 4s 132ms/step - loss: 0.0032\n",
            "Epoch 44/100\n",
            "30/30 [==============================] - 4s 136ms/step - loss: 0.0030\n",
            "Epoch 45/100\n",
            "30/30 [==============================] - 4s 140ms/step - loss: 0.0032\n",
            "Epoch 46/100\n",
            "30/30 [==============================] - 4s 140ms/step - loss: 0.0027\n",
            "Epoch 47/100\n",
            "30/30 [==============================] - 4s 138ms/step - loss: 0.0034\n",
            "Epoch 48/100\n",
            "30/30 [==============================] - 4s 134ms/step - loss: 0.0032\n",
            "Epoch 49/100\n",
            "30/30 [==============================] - 4s 138ms/step - loss: 0.0030\n",
            "Epoch 50/100\n",
            "30/30 [==============================] - 4s 138ms/step - loss: 0.0031\n",
            "Epoch 51/100\n",
            "30/30 [==============================] - 4s 141ms/step - loss: 0.0030\n",
            "Epoch 52/100\n",
            "30/30 [==============================] - 4s 141ms/step - loss: 0.0030\n",
            "Epoch 53/100\n",
            "30/30 [==============================] - 4s 140ms/step - loss: 0.0027\n",
            "Epoch 54/100\n",
            "30/30 [==============================] - 4s 138ms/step - loss: 0.0025\n",
            "Epoch 55/100\n",
            "30/30 [==============================] - 4s 141ms/step - loss: 0.0026\n",
            "Epoch 56/100\n",
            "30/30 [==============================] - 4s 138ms/step - loss: 0.0026\n",
            "Epoch 57/100\n",
            "30/30 [==============================] - 4s 140ms/step - loss: 0.0027\n",
            "Epoch 58/100\n",
            "30/30 [==============================] - 4s 139ms/step - loss: 0.0026\n",
            "Epoch 59/100\n",
            "30/30 [==============================] - 4s 140ms/step - loss: 0.0026\n",
            "Epoch 60/100\n",
            "30/30 [==============================] - 4s 142ms/step - loss: 0.0025\n",
            "Epoch 61/100\n",
            "30/30 [==============================] - 4s 136ms/step - loss: 0.0024\n",
            "Epoch 62/100\n",
            "30/30 [==============================] - 4s 139ms/step - loss: 0.0027\n",
            "Epoch 63/100\n",
            "30/30 [==============================] - 4s 137ms/step - loss: 0.0026\n",
            "Epoch 64/100\n",
            "30/30 [==============================] - 4s 133ms/step - loss: 0.0024\n",
            "Epoch 65/100\n",
            "30/30 [==============================] - 4s 138ms/step - loss: 0.0023\n",
            "Epoch 66/100\n",
            "30/30 [==============================] - 4s 135ms/step - loss: 0.0023\n",
            "Epoch 67/100\n",
            "30/30 [==============================] - 4s 137ms/step - loss: 0.0020\n",
            "Epoch 68/100\n",
            "30/30 [==============================] - 4s 134ms/step - loss: 0.0023\n",
            "Epoch 69/100\n",
            "30/30 [==============================] - 4s 136ms/step - loss: 0.0021\n",
            "Epoch 70/100\n",
            "30/30 [==============================] - 4s 136ms/step - loss: 0.0021\n",
            "Epoch 71/100\n",
            "30/30 [==============================] - 4s 139ms/step - loss: 0.0021\n",
            "Epoch 72/100\n",
            "30/30 [==============================] - 4s 135ms/step - loss: 0.0022\n",
            "Epoch 73/100\n",
            "30/30 [==============================] - 4s 138ms/step - loss: 0.0022\n",
            "Epoch 74/100\n",
            "30/30 [==============================] - 4s 138ms/step - loss: 0.0019\n",
            "Epoch 75/100\n",
            "30/30 [==============================] - 4s 138ms/step - loss: 0.0021\n",
            "Epoch 76/100\n",
            "30/30 [==============================] - 4s 137ms/step - loss: 0.0019\n",
            "Epoch 77/100\n",
            "30/30 [==============================] - 4s 139ms/step - loss: 0.0019\n",
            "Epoch 78/100\n",
            "30/30 [==============================] - 4s 140ms/step - loss: 0.0020\n",
            "Epoch 79/100\n",
            "30/30 [==============================] - 4s 139ms/step - loss: 0.0021\n",
            "Epoch 80/100\n",
            "30/30 [==============================] - 4s 139ms/step - loss: 0.0019\n",
            "Epoch 81/100\n",
            "30/30 [==============================] - 4s 143ms/step - loss: 0.0019\n",
            "Epoch 82/100\n",
            "30/30 [==============================] - 4s 146ms/step - loss: 0.0020\n",
            "Epoch 83/100\n",
            "30/30 [==============================] - 4s 149ms/step - loss: 0.0017\n",
            "Epoch 84/100\n",
            "30/30 [==============================] - 4s 150ms/step - loss: 0.0021\n",
            "Epoch 85/100\n",
            "30/30 [==============================] - 4s 148ms/step - loss: 0.0019\n",
            "Epoch 86/100\n",
            "30/30 [==============================] - 4s 147ms/step - loss: 0.0017\n",
            "Epoch 87/100\n",
            "30/30 [==============================] - 4s 143ms/step - loss: 0.0020\n",
            "Epoch 88/100\n",
            "30/30 [==============================] - 4s 143ms/step - loss: 0.0018\n",
            "Epoch 89/100\n",
            "30/30 [==============================] - 4s 142ms/step - loss: 0.0016\n",
            "Epoch 90/100\n",
            "30/30 [==============================] - 4s 134ms/step - loss: 0.0018\n",
            "Epoch 91/100\n",
            "30/30 [==============================] - 4s 139ms/step - loss: 0.0016\n",
            "Epoch 92/100\n",
            "30/30 [==============================] - 4s 140ms/step - loss: 0.0019\n",
            "Epoch 93/100\n",
            "30/30 [==============================] - 4s 142ms/step - loss: 0.0019\n",
            "Epoch 94/100\n",
            "30/30 [==============================] - 4s 134ms/step - loss: 0.0016\n",
            "Epoch 95/100\n",
            "30/30 [==============================] - 4s 137ms/step - loss: 0.0021\n",
            "Epoch 96/100\n",
            "30/30 [==============================] - 4s 141ms/step - loss: 0.0019\n",
            "Epoch 97/100\n",
            "30/30 [==============================] - 4s 139ms/step - loss: 0.0016\n",
            "Epoch 98/100\n",
            "30/30 [==============================] - 4s 141ms/step - loss: 0.0017\n",
            "Epoch 99/100\n",
            "30/30 [==============================] - 4s 143ms/step - loss: 0.0016\n",
            "Epoch 100/100\n",
            "30/30 [==============================] - 4s 137ms/step - loss: 0.0017\n"
          ]
        },
        {
          "output_type": "execute_result",
          "data": {
            "text/plain": [
              "<keras.callbacks.History at 0x7fd310cc8c10>"
            ]
          },
          "metadata": {},
          "execution_count": 21
        }
      ]
    },
    {
      "cell_type": "markdown",
      "source": [
        "**Making the Prediction and Visualizing the Result**"
      ],
      "metadata": {
        "id": "3gVaGVU96sL9"
      }
    },
    {
      "cell_type": "code",
      "source": [
        "real_stock_price = data.iloc[:, 1:2].values"
      ],
      "metadata": {
        "id": "6qVA78qv-HpW"
      },
      "execution_count": 46,
      "outputs": []
    },
    {
      "cell_type": "code",
      "source": [
        "dataset_total= data[('Open')]"
      ],
      "metadata": {
        "id": "MGir1SHH6mkW"
      },
      "execution_count": 25,
      "outputs": []
    },
    {
      "cell_type": "code",
      "source": [
        "inputs=dataset_total[len(dataset_total)-60:].values"
      ],
      "metadata": {
        "id": "aqrGtT-w7VAx"
      },
      "execution_count": 27,
      "outputs": []
    },
    {
      "cell_type": "code",
      "source": [
        "print(len(inputs), inputs.shape)"
      ],
      "metadata": {
        "colab": {
          "base_uri": "https://localhost:8080/"
        },
        "id": "0PLvVTI072Kr",
        "outputId": "cd2f9ba7-9c46-4d98-d9fd-b768173ab53b"
      },
      "execution_count": 28,
      "outputs": [
        {
          "output_type": "stream",
          "name": "stdout",
          "text": [
            "60 (60,)\n"
          ]
        }
      ]
    },
    {
      "cell_type": "code",
      "source": [
        "# Creating the test data into 2d array shape\n",
        "inputs = inputs.reshape(-1, 1)\n",
        "inputs = sc.transform(inputs)"
      ],
      "metadata": {
        "id": "T42-YMTK8CHj"
      },
      "execution_count": 29,
      "outputs": []
    },
    {
      "cell_type": "code",
      "source": [
        "X_test = []\n",
        "for i in range(50, 60):\n",
        "  X_test.append(inputs[i-50:i, 0])\n",
        "\n",
        "X_test = np.array(X_test)\n",
        "X_test = np.reshape(X_test, (X_test.shape[0], X_test.shape[1], 1))"
      ],
      "metadata": {
        "id": "_WXAx8f18GG1"
      },
      "execution_count": 39,
      "outputs": []
    },
    {
      "cell_type": "code",
      "source": [
        "X_test.shape"
      ],
      "metadata": {
        "colab": {
          "base_uri": "https://localhost:8080/"
        },
        "id": "CfZEjD-B8L5I",
        "outputId": "60cd5a59-fc8d-40fa-8b30-dc47bec4d4b9"
      },
      "execution_count": 40,
      "outputs": [
        {
          "output_type": "execute_result",
          "data": {
            "text/plain": [
              "(10, 50, 1)"
            ]
          },
          "metadata": {},
          "execution_count": 40
        }
      ]
    },
    {
      "cell_type": "code",
      "source": [
        "predicted_stock_price = regressorr.predict(X_test)\n",
        "predicted_stock_price = sc.inverse_transform(predicted_stock_price)"
      ],
      "metadata": {
        "id": "7Cw4SJR68a6R"
      },
      "execution_count": 42,
      "outputs": []
    },
    {
      "cell_type": "code",
      "source": [
        "predicted_stock_price.shape"
      ],
      "metadata": {
        "colab": {
          "base_uri": "https://localhost:8080/"
        },
        "id": "elM8zfAX8e21",
        "outputId": "96b953e2-3b19-42a1-d500-6ea67bed177b"
      },
      "execution_count": 43,
      "outputs": [
        {
          "output_type": "execute_result",
          "data": {
            "text/plain": [
              "(10, 1)"
            ]
          },
          "metadata": {},
          "execution_count": 43
        }
      ]
    },
    {
      "cell_type": "markdown",
      "source": [
        "**Visualizing The Result**"
      ],
      "metadata": {
        "id": "dHKk7oSZ9hZn"
      }
    },
    {
      "cell_type": "code",
      "source": [
        "plt.figure(figsize=(15,10))\n",
        "plt.plot(real_stock_price, color='red', label='Real Google Stock Price')\n",
        "plt.plot(predicted_stock_price, color='blue', label='Predicted Google Stock Price')\n",
        "plt.title('Google Stock Price Prediction')\n",
        "plt.legend()\n",
        "plt.xlabel('Time')\n",
        "plt.ylabel('Google Stock Price')\n",
        "plt.show()"
      ],
      "metadata": {
        "colab": {
          "base_uri": "https://localhost:8080/",
          "height": 598
        },
        "id": "nO9UDW1s8vUU",
        "outputId": "dd3489d5-e898-46c7-f42d-bbc8c9774cba"
      },
      "execution_count": 47,
      "outputs": [
        {
          "output_type": "display_data",
          "data": {
            "text/plain": [
              "<Figure size 1080x720 with 1 Axes>"
            ],
            "image/png": "[encoded data removed]"
          },
          "metadata": {
            "needs_background": "light"
          }
        }
      ]
    }
  ]
}